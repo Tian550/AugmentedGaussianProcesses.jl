{
 "cells": [
  {
   "cell_type": "code",
   "execution_count": 1,
   "metadata": {},
   "outputs": [],
   "source": [
    "using Plots;\n",
    "using DelimitedFiles;\n",
    "using AugmentedGaussianProcesses;"
   ]
  },
  {
   "cell_type": "code",
   "execution_count": 2,
   "metadata": {},
   "outputs": [],
   "source": [
    "X = readdlm(\"data/banana_X_train\");\n",
    "Y = readdlm(\"data/banana_Y_train\")[:];"
   ]
  },
  {
   "cell_type": "code",
   "execution_count": 3,
   "metadata": {},
   "outputs": [
    {
     "name": "stdout",
     "output_type": "stream",
     "text": [
      "Training with 4 points\n",
      "  6.422074 seconds (30.05 M allocations: 1.600 GiB, 8.10% gc time)\n",
      "Training with 8 points\n",
      "  0.088087 seconds (478.40 k allocations: 154.363 MiB, 20.07% gc time)\n",
      "Training with 16 points\n",
      "  0.147010 seconds (478.40 k allocations: 254.029 MiB, 12.67% gc time)\n",
      "Training with 32 points\n",
      "  0.222070 seconds (478.40 k allocations: 454.379 MiB, 12.38% gc time)\n",
      "Training with 64 points\n",
      "  0.518321 seconds (478.75 k allocations: 859.182 MiB, 22.40% gc time)\n"
     ]
    }
   ],
   "source": [
    "# Run sparse classification with increasing number of inducing points\n",
    "Ms = [4, 8, 16, 32, 64]\n",
    "models = Vector{AbstractGP}(undef,length(Ms)+1)\n",
    "kernel = RBFKernel(1.0)\n",
    "for (index, num_inducing) in enumerate(Ms)\n",
    "    m = SVGP(X, Y, kernel,AugmentedLogisticLikelihood(),AnalyticInference(),num_inducing,Autotuning=true)\n",
    "    println(\"Training with $(num_inducing) points\")\n",
    "    @time train!(m,iterations=20)\n",
    "    models[index]=m;\n",
    "end"
   ]
  },
  {
   "cell_type": "code",
   "execution_count": 4,
   "metadata": {},
   "outputs": [],
   "source": [
    "mfull = VGP(X, Y, kernel,AugmentedLogisticLikelihood(),AnalyticInference(),Autotuning=true)\n",
    "train!(mfull,iterations=5);\n",
    "models[end] = mfull;"
   ]
  },
  {
   "cell_type": "code",
   "execution_count": 5,
   "metadata": {},
   "outputs": [],
   "source": [
    "function compute_Grid(model,nGrid=50)\n",
    "    mins = [-3.25,-2.85]\n",
    "    maxs = [3.65,3.4]\n",
    "    xlin = range(mins[1],stop=maxs[1],length=nGrid)\n",
    "    ylin = range(mins[2],stop=maxs[2],length=nGrid)\n",
    "    Xplot = hcat([j for i in xlin, j in ylin][:],[i for i in xlin, j in ylin][:])\n",
    "    y =  proba_y(model,Xplot)\n",
    "    return (y,xlin,ylin)\n",
    "    end;"
   ]
  },
  {
   "cell_type": "code",
   "execution_count": 6,
   "metadata": {},
   "outputs": [],
   "source": [
    "function plotdata(X,Y)\n",
    "    plot(X[:,1],X[:,2],alpha=0.2,color=Y,t=:scatter,markerstrokewidth=0.0,lab=\"\",size=(300,500));\n",
    "    end;"
   ]
  },
  {
   "cell_type": "code",
   "execution_count": 8,
   "metadata": {},
   "outputs": [],
   "source": [
    "function plotcontour(model,X,Y)\n",
    "    nGrid = 40\n",
    "    (predic,x,y) = compute_Grid(model,nGrid);\n",
    "    plotdata(X,Y)\n",
    "    if in(:Z,fieldnames(typeof(model)))\n",
    "        println(\"Plotting model with $(model.nFeature) points\")\n",
    "        plot!(model.Z[1][:,1],model.inducingPoints.Z[1][:,2],msize=2.0,color=\"black\",t=:scatter,lab=\"\")\n",
    "    end\n",
    "    return plot!(x,y,reshape(predic,nGrid,nGrid),cbar=false,t=:contour,levels=[0.5],fill=false,fillalpha=0.2,title=(in(:Z,fieldnames(typeof(model))) ? \"M = $(model.nFeature)\" : \"full\"))\n",
    "end;"
   ]
  },
  {
   "cell_type": "code",
   "execution_count": 7,
   "metadata": {
    "scrolled": true
   },
   "outputs": [
    {
     "ename": "UndefVarError",
     "evalue": "UndefVarError: plotcontour not defined",
     "output_type": "error",
     "traceback": [
      "UndefVarError: plotcontour not defined",
      "",
      "Stacktrace:",
      " [1] (::getfield(Main, Symbol(\"##7#8\")))(::SVGP{AugmentedLogisticLikelihood{Float64},AnalyticInference{Float64},Float64,Array{Float64,1}}) at ./In[7]:1",
      " [2] _broadcast_getindex_evalf at ./broadcast.jl:578 [inlined]",
      " [3] _broadcast_getindex at ./broadcast.jl:551 [inlined]",
      " [4] getindex at ./broadcast.jl:511 [inlined]",
      " [5] copy at ./broadcast.jl:787 [inlined]",
      " [6] materialize at ./broadcast.jl:753 [inlined]",
      " [7] broadcast(::getfield(Main, Symbol(\"##7#8\")), ::Array{GP,1}) at ./broadcast.jl:707",
      " [8] top-level scope at In[7]:1"
     ]
    }
   ],
   "source": [
    "plot(broadcast(x->plotcontour(x,X,Y),models)...,layout=(1,length(models)),size=(1000,200))"
   ]
  },
  {
   "cell_type": "code",
   "execution_count": null,
   "metadata": {},
   "outputs": [],
   "source": []
  },
  {
   "cell_type": "code",
   "execution_count": null,
   "metadata": {
    "collapsed": true
   },
   "outputs": [],
   "source": []
  }
 ],
 "metadata": {
  "@webio": {
   "lastCommId": "5c1886c94e074c488b0e3b76068d2ec6",
   "lastKernelId": "6eac77bd-7355-443a-a707-ab5212472297"
  },
  "kernelspec": {
   "display_name": "Julia 1.1.0",
   "language": "julia",
   "name": "julia-1.1"
  },
  "language_info": {
   "file_extension": ".jl",
   "mimetype": "application/julia",
   "name": "julia",
   "version": "1.1.0"
  }
 },
 "nbformat": 4,
 "nbformat_minor": 2
}
