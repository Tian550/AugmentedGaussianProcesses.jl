{
 "cells": [
  {
   "cell_type": "code",
   "execution_count": 2,
   "metadata": {},
   "outputs": [
    {
     "name": "stderr",
     "output_type": "stream",
     "text": [
      "┌ Warning: `getindex(o::PyObject, s::AbstractString)` is deprecated in favor of dot overloading (`getproperty`) so elements should now be accessed as e.g. `o.\"s\"` instead of `o[\"s\"]`.\n",
      "│   caller = top-level scope at none:0\n",
      "└ @ Core none:0\n"
     ]
    }
   ],
   "source": [
    "using Plots; pyplot();\n",
    "using DelimitedFiles, Distributions;\n",
    "using AugmentedGaussianProcesses;"
   ]
  },
  {
   "cell_type": "code",
   "execution_count": 3,
   "metadata": {},
   "outputs": [
    {
     "name": "stderr",
     "output_type": "stream",
     "text": [
      "┌ Warning: `getindex(f::Figure, x)` is deprecated, use `getproperty(f, x)` instead.\n",
      "│   caller = _before_layout_calcs(::Plots.Plot{Plots.PyPlotBackend}) at pyplot.jl:935\n",
      "└ @ Plots /home/theo/.julia/packages/Plots/QYETN/src/backends/pyplot.jl:935\n",
      "┌ Warning: `getindex(f::Figure, x)` is deprecated, use `getproperty(f, x)` instead.\n",
      "│   caller = _before_layout_calcs(::Plots.Plot{Plots.PyPlotBackend}) at pyplot.jl:937\n",
      "└ @ Plots /home/theo/.julia/packages/Plots/QYETN/src/backends/pyplot.jl:937\n",
      "┌ Warning: `getindex(f::Figure, x)` is deprecated, use `getproperty(f, x)` instead.\n",
      "│   caller = _before_layout_calcs(::Plots.Plot{Plots.PyPlotBackend}) at pyplot.jl:938\n",
      "└ @ Plots /home/theo/.julia/packages/Plots/QYETN/src/backends/pyplot.jl:938\n",
      "┌ Warning: `getindex(f::Figure, x)` is deprecated, use `getproperty(f, x)` instead.\n",
      "│   caller = _before_layout_calcs(::Plots.Plot{Plots.PyPlotBackend}) at pyplot.jl:939\n",
      "└ @ Plots /home/theo/.julia/packages/Plots/QYETN/src/backends/pyplot.jl:939\n",
      "┌ Warning: `getindex(o::PyObject, s::Symbol)` is deprecated in favor of dot overloading (`getproperty`) so elements should now be accessed as e.g. `o.s` instead of `o[:s]`.\n",
      "│   caller = _before_layout_calcs(::Plots.Plot{Plots.PyPlotBackend}) at pyplot.jl:942\n",
      "└ @ Plots /home/theo/.julia/packages/Plots/QYETN/src/backends/pyplot.jl:942\n",
      "┌ Warning: `getindex(o::PyObject, s::Symbol)` is deprecated in favor of dot overloading (`getproperty`) so elements should now be accessed as e.g. `o.s` instead of `o[:s]`.\n",
      "│   caller = _before_layout_calcs(::Plots.Plot{Plots.PyPlotBackend}) at pyplot.jl:942\n",
      "└ @ Plots /home/theo/.julia/packages/Plots/QYETN/src/backends/pyplot.jl:942\n",
      "┌ Warning: `getindex(f::Figure, x)` is deprecated, use `getproperty(f, x)` instead.\n",
      "│   caller = py_init_subplot(::Plots.Plot{Plots.PyPlotBackend}, ::Plots.Subplot{Plots.PyPlotBackend}) at pyplot.jl:342\n",
      "└ @ Plots /home/theo/.julia/packages/Plots/QYETN/src/backends/pyplot.jl:342\n",
      "┌ Warning: `getindex(o::PyObject, s::Symbol)` is deprecated in favor of dot overloading (`getproperty`) so elements should now be accessed as e.g. `o.s` instead of `o[:s]`.\n",
      "│   caller = py_add_series(::Plots.Plot{Plots.PyPlotBackend}, ::Plots.Series) at pyplot.jl:592\n",
      "└ @ Plots /home/theo/.julia/packages/Plots/QYETN/src/backends/pyplot.jl:592\n",
      "┌ Warning: `getindex(o::PyObject, s::Symbol)` is deprecated in favor of dot overloading (`getproperty`) so elements should now be accessed as e.g. `o.s` instead of `o[:s]`.\n",
      "│   caller = _before_layout_calcs(::Plots.Plot{Plots.PyPlotBackend}) at pyplot.jl:1029\n",
      "└ @ Plots /home/theo/.julia/packages/Plots/QYETN/src/backends/pyplot.jl:1029\n",
      "┌ Warning: `getindex(o::PyObject, s::Symbol)` is deprecated in favor of dot overloading (`getproperty`) so elements should now be accessed as e.g. `o.s` instead of `o[:s]`.\n",
      "│   caller = _before_layout_calcs(::Plots.Plot{Plots.PyPlotBackend}) at pyplot.jl:1029\n",
      "└ @ Plots /home/theo/.julia/packages/Plots/QYETN/src/backends/pyplot.jl:1029\n",
      "┌ Warning: `getindex(o::PyObject, s::Symbol)` is deprecated in favor of dot overloading (`getproperty`) so elements should now be accessed as e.g. `o.s` instead of `o[:s]`.\n",
      "│   caller = _before_layout_calcs(::Plots.Plot{Plots.PyPlotBackend}) at pyplot.jl:1030\n",
      "└ @ Plots /home/theo/.julia/packages/Plots/QYETN/src/backends/pyplot.jl:1030\n",
      "┌ Warning: `getindex(o::PyObject, s::Symbol)` is deprecated in favor of dot overloading (`getproperty`) so elements should now be accessed as e.g. `o.s` instead of `o[:s]`.\n",
      "│   caller = _before_layout_calcs(::Plots.Plot{Plots.PyPlotBackend}) at pyplot.jl:1030\n",
      "└ @ Plots /home/theo/.julia/packages/Plots/QYETN/src/backends/pyplot.jl:1030\n",
      "┌ Warning: `getindex(o::PyObject, s::Symbol)` is deprecated in favor of dot overloading (`getproperty`) so elements should now be accessed as e.g. `o.s` instead of `o[:s]`.\n",
      "│   caller = _before_layout_calcs(::Plots.Plot{Plots.PyPlotBackend}) at pyplot.jl:1038\n",
      "└ @ Plots /home/theo/.julia/packages/Plots/QYETN/src/backends/pyplot.jl:1038\n",
      "┌ Warning: `getindex(o::PyObject, s::Symbol)` is deprecated in favor of dot overloading (`getproperty`) so elements should now be accessed as e.g. `o.s` instead of `o[:s]`.\n",
      "│   caller = _before_layout_calcs(::Plots.Plot{Plots.PyPlotBackend}) at pyplot.jl:1038\n",
      "└ @ Plots /home/theo/.julia/packages/Plots/QYETN/src/backends/pyplot.jl:1038\n",
      "┌ Warning: `getindex(o::PyObject, s::Symbol)` is deprecated in favor of dot overloading (`getproperty`) so elements should now be accessed as e.g. `o.s` instead of `o[:s]`.\n",
      "│   caller = _before_layout_calcs(::Plots.Plot{Plots.PyPlotBackend}) at pyplot.jl:1039\n",
      "└ @ Plots /home/theo/.julia/packages/Plots/QYETN/src/backends/pyplot.jl:1039\n",
      "┌ Warning: `getindex(o::PyObject, s::Symbol)` is deprecated in favor of dot overloading (`getproperty`) so elements should now be accessed as e.g. `o.s` instead of `o[:s]`.\n",
      "│   caller = _before_layout_calcs(::Plots.Plot{Plots.PyPlotBackend}) at pyplot.jl:1039\n",
      "└ @ Plots /home/theo/.julia/packages/Plots/QYETN/src/backends/pyplot.jl:1039\n",
      "┌ Warning: `haskey(o::PyObject, s::Union{Symbol, AbstractString})` is deprecated, use `hasproperty(o, s)` instead.\n",
      "│   caller = _before_layout_calcs(::Plots.Plot{Plots.PyPlotBackend}) at pyplot.jl:1058\n",
      "└ @ Plots /home/theo/.julia/packages/Plots/QYETN/src/backends/pyplot.jl:1058\n",
      "┌ Warning: `getindex(o::PyObject, s::Symbol)` is deprecated in favor of dot overloading (`getproperty`) so elements should now be accessed as e.g. `o.s` instead of `o[:s]`.\n",
      "│   caller = _before_layout_calcs(::Plots.Plot{Plots.PyPlotBackend}) at pyplot.jl:1060\n",
      "└ @ Plots /home/theo/.julia/packages/Plots/QYETN/src/backends/pyplot.jl:1060\n",
      "┌ Warning: `getindex(o::PyObject, s::Symbol)` is deprecated in favor of dot overloading (`getproperty`) so elements should now be accessed as e.g. `o.s` instead of `o[:s]`.\n",
      "│   caller = py_set_scale(::PyCall.PyObject, ::Plots.Axis) at pyplot.jl:894\n",
      "└ @ Plots /home/theo/.julia/packages/Plots/QYETN/src/backends/pyplot.jl:894\n",
      "┌ Warning: `getindex(o::PyObject, s::Symbol)` is deprecated in favor of dot overloading (`getproperty`) so elements should now be accessed as e.g. `o.s` instead of `o[:s]`.\n",
      "│   caller = py_set_lims(::PyCall.PyObject, ::Plots.Axis) at pyplot.jl:844\n",
      "└ @ Plots /home/theo/.julia/packages/Plots/QYETN/src/backends/pyplot.jl:844\n",
      "┌ Warning: `getindex(o::PyObject, s::Symbol)` is deprecated in favor of dot overloading (`getproperty`) so elements should now be accessed as e.g. `o.s` instead of `o[:s]`.\n",
      "│   caller = py_set_ticks(::PyCall.PyObject, ::Tuple{Array{Float64,1},Array{String,1}}, ::Symbol) at pyplot.jl:849\n",
      "└ @ Plots /home/theo/.julia/packages/Plots/QYETN/src/backends/pyplot.jl:849\n",
      "┌ Warning: `getindex(o::PyObject, s::Symbol)` is deprecated in favor of dot overloading (`getproperty`) so elements should now be accessed as e.g. `o.s` instead of `o[:s]`.\n",
      "│   caller = py_set_ticks(::PyCall.PyObject, ::Tuple{Array{Float64,1},Array{String,1}}, ::Symbol) at pyplot.jl:863\n",
      "└ @ Plots /home/theo/.julia/packages/Plots/QYETN/src/backends/pyplot.jl:863\n",
      "┌ Warning: `getindex(o::PyObject, s::Symbol)` is deprecated in favor of dot overloading (`getproperty`) so elements should now be accessed as e.g. `o.s` instead of `o[:s]`.\n",
      "│   caller = py_set_ticks(::PyCall.PyObject, ::Tuple{Array{Float64,1},Array{String,1}}, ::Symbol) at pyplot.jl:864\n",
      "└ @ Plots /home/theo/.julia/packages/Plots/QYETN/src/backends/pyplot.jl:864\n",
      "┌ Warning: `getindex(o::PyObject, s::Symbol)` is deprecated in favor of dot overloading (`getproperty`) so elements should now be accessed as e.g. `o.s` instead of `o[:s]`.\n",
      "│   caller = _before_layout_calcs(::Plots.Plot{Plots.PyPlotBackend}) at pyplot.jl:1081\n",
      "└ @ Plots /home/theo/.julia/packages/Plots/QYETN/src/backends/pyplot.jl:1081\n",
      "┌ Warning: `getindex(o::PyObject, s::Symbol)` is deprecated in favor of dot overloading (`getproperty`) so elements should now be accessed as e.g. `o.s` instead of `o[:s]`.\n",
      "│   caller = _before_layout_calcs(::Plots.Plot{Plots.PyPlotBackend}) at pyplot.jl:1082\n",
      "└ @ Plots /home/theo/.julia/packages/Plots/QYETN/src/backends/pyplot.jl:1082\n",
      "┌ Warning: `getindex(o::PyObject, s::Symbol)` is deprecated in favor of dot overloading (`getproperty`) so elements should now be accessed as e.g. `o.s` instead of `o[:s]`.\n",
      "│   caller = _before_layout_calcs(::Plots.Plot{Plots.PyPlotBackend}) at pyplot.jl:1086\n",
      "└ @ Plots /home/theo/.julia/packages/Plots/QYETN/src/backends/pyplot.jl:1086\n",
      "┌ Warning: `getindex(o::PyObject, s::Symbol)` is deprecated in favor of dot overloading (`getproperty`) so elements should now be accessed as e.g. `o.s` instead of `o[:s]`.\n",
      "│   caller = _before_layout_calcs(::Plots.Plot{Plots.PyPlotBackend}) at pyplot.jl:1086\n",
      "└ @ Plots /home/theo/.julia/packages/Plots/QYETN/src/backends/pyplot.jl:1086\n",
      "┌ Warning: `getindex(o::PyObject, s::Symbol)` is deprecated in favor of dot overloading (`getproperty`) so elements should now be accessed as e.g. `o.s` instead of `o[:s]`.\n",
      "│   caller = _before_layout_calcs(::Plots.Plot{Plots.PyPlotBackend}) at pyplot.jl:1087\n",
      "└ @ Plots /home/theo/.julia/packages/Plots/QYETN/src/backends/pyplot.jl:1087\n",
      "┌ Warning: `getindex(o::PyObject, s::Symbol)` is deprecated in favor of dot overloading (`getproperty`) so elements should now be accessed as e.g. `o.s` instead of `o[:s]`.\n",
      "│   caller = _before_layout_calcs(::Plots.Plot{Plots.PyPlotBackend}) at pyplot.jl:1087\n",
      "└ @ Plots /home/theo/.julia/packages/Plots/QYETN/src/backends/pyplot.jl:1087\n",
      "┌ Warning: `getindex(o::PyObject, s::Symbol)` is deprecated in favor of dot overloading (`getproperty`) so elements should now be accessed as e.g. `o.s` instead of `o[:s]`.\n",
      "│   caller = _before_layout_calcs(::Plots.Plot{Plots.PyPlotBackend}) at pyplot.jl:1088\n",
      "└ @ Plots /home/theo/.julia/packages/Plots/QYETN/src/backends/pyplot.jl:1088\n",
      "┌ Warning: `getindex(o::PyObject, s::Symbol)` is deprecated in favor of dot overloading (`getproperty`) so elements should now be accessed as e.g. `o.s` instead of `o[:s]`.\n",
      "│   caller = _before_layout_calcs(::Plots.Plot{Plots.PyPlotBackend}) at pyplot.jl:1089\n",
      "└ @ Plots /home/theo/.julia/packages/Plots/QYETN/src/backends/pyplot.jl:1089\n",
      "┌ Warning: `getindex(o::PyObject, s::Symbol)` is deprecated in favor of dot overloading (`getproperty`) so elements should now be accessed as e.g. `o.s` instead of `o[:s]`.\n",
      "│   caller = _before_layout_calcs(::Plots.Plot{Plots.PyPlotBackend}) at pyplot.jl:1090\n",
      "└ @ Plots /home/theo/.julia/packages/Plots/QYETN/src/backends/pyplot.jl:1090\n",
      "┌ Warning: `getindex(o::PyObject, s::Symbol)` is deprecated in favor of dot overloading (`getproperty`) so elements should now be accessed as e.g. `o.s` instead of `o[:s]`.\n",
      "│   caller = _before_layout_calcs(::Plots.Plot{Plots.PyPlotBackend}) at pyplot.jl:1091\n",
      "└ @ Plots /home/theo/.julia/packages/Plots/QYETN/src/backends/pyplot.jl:1091\n",
      "┌ Warning: `getindex(o::PyObject, s::Symbol)` is deprecated in favor of dot overloading (`getproperty`) so elements should now be accessed as e.g. `o.s` instead of `o[:s]`.\n",
      "│   caller = _before_layout_calcs(::Plots.Plot{Plots.PyPlotBackend}) at pyplot.jl:1095\n",
      "└ @ Plots /home/theo/.julia/packages/Plots/QYETN/src/backends/pyplot.jl:1095\n"
     ]
    },
    {
     "name": "stderr",
     "output_type": "stream",
     "text": [
      "┌ Warning: `getindex(o::PyObject, s::Symbol)` is deprecated in favor of dot overloading (`getproperty`) so elements should now be accessed as e.g. `o.s` instead of `o[:s]`.\n",
      "│   caller = _before_layout_calcs(::Plots.Plot{Plots.PyPlotBackend}) at pyplot.jl:1100\n",
      "└ @ Plots /home/theo/.julia/packages/Plots/QYETN/src/backends/pyplot.jl:1100\n",
      "┌ Warning: `getindex(o::PyObject, s::Symbol)` is deprecated in favor of dot overloading (`getproperty`) so elements should now be accessed as e.g. `o.s` instead of `o[:s]`.\n",
      "│   caller = py_set_axis_colors(::Plots.Subplot{Plots.PyPlotBackend}, ::PyCall.PyObject, ::Plots.Axis) at pyplot.jl:914\n",
      "└ @ Plots /home/theo/.julia/packages/Plots/QYETN/src/backends/pyplot.jl:914\n",
      "┌ Warning: `getindex(o::PyObject, s::Symbol)` is deprecated in favor of dot overloading (`getproperty`) so elements should now be accessed as e.g. `o.s` instead of `o[:s]`.\n",
      "│   caller = py_set_axis_colors(::Plots.Subplot{Plots.PyPlotBackend}, ::PyCall.PyObject, ::Plots.Axis) at pyplot.jl:915\n",
      "└ @ Plots /home/theo/.julia/packages/Plots/QYETN/src/backends/pyplot.jl:915\n",
      "┌ Warning: `haskey(o::PyObject, s::Union{Symbol, AbstractString})` is deprecated, use `hasproperty(o, s)` instead.\n",
      "│   caller = py_set_axis_colors(::Plots.Subplot{Plots.PyPlotBackend}, ::PyCall.PyObject, ::Plots.Axis) at pyplot.jl:918\n",
      "└ @ Plots /home/theo/.julia/packages/Plots/QYETN/src/backends/pyplot.jl:918\n",
      "┌ Warning: `getindex(o::PyObject, s::Symbol)` is deprecated in favor of dot overloading (`getproperty`) so elements should now be accessed as e.g. `o.s` instead of `o[:s]`.\n",
      "│   caller = py_set_axis_colors(::Plots.Subplot{Plots.PyPlotBackend}, ::PyCall.PyObject, ::Plots.Axis) at pyplot.jl:920\n",
      "└ @ Plots /home/theo/.julia/packages/Plots/QYETN/src/backends/pyplot.jl:920\n",
      "┌ Warning: `getindex(o::PyObject, s::Symbol)` is deprecated in favor of dot overloading (`getproperty`) so elements should now be accessed as e.g. `o.s` instead of `o[:s]`.\n",
      "│   caller = py_set_axis_colors(::Plots.Subplot{Plots.PyPlotBackend}, ::PyCall.PyObject, ::Plots.Axis) at pyplot.jl:923\n",
      "└ @ Plots /home/theo/.julia/packages/Plots/QYETN/src/backends/pyplot.jl:923\n",
      "┌ Warning: `getindex(o::PyObject, s::Symbol)` is deprecated in favor of dot overloading (`getproperty`) so elements should now be accessed as e.g. `o.s` instead of `o[:s]`.\n",
      "│   caller = py_set_axis_colors(::Plots.Subplot{Plots.PyPlotBackend}, ::PyCall.PyObject, ::Plots.Axis) at pyplot.jl:923\n",
      "└ @ Plots /home/theo/.julia/packages/Plots/QYETN/src/backends/pyplot.jl:923\n",
      "┌ Warning: `getindex(o::PyObject, s::Symbol)` is deprecated in favor of dot overloading (`getproperty`) so elements should now be accessed as e.g. `o.s` instead of `o[:s]`.\n",
      "│   caller = py_set_axis_colors(::Plots.Subplot{Plots.PyPlotBackend}, ::PyCall.PyObject, ::Plots.Axis) at pyplot.jl:923\n",
      "└ @ Plots /home/theo/.julia/packages/Plots/QYETN/src/backends/pyplot.jl:923\n",
      "┌ Warning: `getindex(o::PyObject, s::Symbol)` is deprecated in favor of dot overloading (`getproperty`) so elements should now be accessed as e.g. `o.s` instead of `o[:s]`.\n",
      "│   caller = py_add_legend(::Plots.Plot{Plots.PyPlotBackend}, ::Plots.Subplot{Plots.PyPlotBackend}, ::PyCall.PyObject) at pyplot.jl:1254\n",
      "└ @ Plots /home/theo/.julia/packages/Plots/QYETN/src/backends/pyplot.jl:1254\n",
      "┌ Warning: `getindex(o::PyObject, s::Symbol)` is deprecated in favor of dot overloading (`getproperty`) so elements should now be accessed as e.g. `o.s` instead of `o[:s]`.\n",
      "│   caller = py_add_legend(::Plots.Plot{Plots.PyPlotBackend}, ::Plots.Subplot{Plots.PyPlotBackend}, ::PyCall.PyObject) at pyplot.jl:1271\n",
      "└ @ Plots /home/theo/.julia/packages/Plots/QYETN/src/backends/pyplot.jl:1271\n",
      "┌ Warning: `getindex(o::PyObject, s::Symbol)` is deprecated in favor of dot overloading (`getproperty`) so elements should now be accessed as e.g. `o.s` instead of `o[:s]`.\n",
      "│   caller = py_add_legend(::Plots.Plot{Plots.PyPlotBackend}, ::Plots.Subplot{Plots.PyPlotBackend}, ::PyCall.PyObject) at pyplot.jl:1280\n",
      "└ @ Plots /home/theo/.julia/packages/Plots/QYETN/src/backends/pyplot.jl:1280\n",
      "┌ Warning: `getindex(o::PyObject, s::Symbol)` is deprecated in favor of dot overloading (`getproperty`) so elements should now be accessed as e.g. `o.s` instead of `o[:s]`.\n",
      "│   caller = py_add_legend(::Plots.Plot{Plots.PyPlotBackend}, ::Plots.Subplot{Plots.PyPlotBackend}, ::PyCall.PyObject) at pyplot.jl:1281\n",
      "└ @ Plots /home/theo/.julia/packages/Plots/QYETN/src/backends/pyplot.jl:1281\n",
      "┌ Warning: `getindex(o::PyObject, s::Symbol)` is deprecated in favor of dot overloading (`getproperty`) so elements should now be accessed as e.g. `o.s` instead of `o[:s]`.\n",
      "│   caller = py_add_legend(::Plots.Plot{Plots.PyPlotBackend}, ::Plots.Subplot{Plots.PyPlotBackend}, ::PyCall.PyObject) at pyplot.jl:1282\n",
      "└ @ Plots /home/theo/.julia/packages/Plots/QYETN/src/backends/pyplot.jl:1282\n",
      "┌ Warning: `getindex(o::PyObject, s::Symbol)` is deprecated in favor of dot overloading (`getproperty`) so elements should now be accessed as e.g. `o.s` instead of `o[:s]`.\n",
      "│   caller = py_add_legend(::Plots.Plot{Plots.PyPlotBackend}, ::Plots.Subplot{Plots.PyPlotBackend}, ::PyCall.PyObject) at pyplot.jl:1285\n",
      "└ @ Plots /home/theo/.julia/packages/Plots/QYETN/src/backends/pyplot.jl:1285\n",
      "┌ Warning: `getindex(o::PyObject, s::Symbol)` is deprecated in favor of dot overloading (`getproperty`) so elements should now be accessed as e.g. `o.s` instead of `o[:s]`.\n",
      "│   caller = py_add_legend(::Plots.Plot{Plots.PyPlotBackend}, ::Plots.Subplot{Plots.PyPlotBackend}, ::PyCall.PyObject) at pyplot.jl:1286\n",
      "└ @ Plots /home/theo/.julia/packages/Plots/QYETN/src/backends/pyplot.jl:1286\n",
      "┌ Warning: `getindex(o::PyObject, s::Symbol)` is deprecated in favor of dot overloading (`getproperty`) so elements should now be accessed as e.g. `o.s` instead of `o[:s]`.\n",
      "│   caller = _before_layout_calcs(::Plots.Plot{Plots.PyPlotBackend}) at pyplot.jl:1148\n",
      "└ @ Plots /home/theo/.julia/packages/Plots/QYETN/src/backends/pyplot.jl:1148\n",
      "┌ Warning: `getindex(f::Figure, x)` is deprecated, use `getproperty(f, x)` instead.\n",
      "│   caller = py_drawfig(::PyPlot.Figure) at pyplot.jl:257\n",
      "└ @ Plots /home/theo/.julia/packages/Plots/QYETN/src/backends/pyplot.jl:257\n",
      "┌ Warning: `getindex(f::Figure, x)` is deprecated, use `getproperty(f, x)` instead.\n",
      "│   caller = py_canvas at pyplot.jl:251 [inlined]\n",
      "└ @ Core /home/theo/.julia/packages/Plots/QYETN/src/backends/pyplot.jl:251\n",
      "┌ Warning: `getindex(o::PyObject, s::Symbol)` is deprecated in favor of dot overloading (`getproperty`) so elements should now be accessed as e.g. `o.s` instead of `o[:s]`.\n",
      "│   caller = py_renderer(::PyPlot.Figure) at pyplot.jl:254\n",
      "└ @ Plots /home/theo/.julia/packages/Plots/QYETN/src/backends/pyplot.jl:254\n",
      "┌ Warning: `getindex(o::PyObject, s::Symbol)` is deprecated in favor of dot overloading (`getproperty`) so elements should now be accessed as e.g. `o.s` instead of `o[:s]`.\n",
      "│   caller = py_bbox(::PyCall.PyObject) at pyplot.jl:266\n",
      "└ @ Plots /home/theo/.julia/packages/Plots/QYETN/src/backends/pyplot.jl:266\n",
      "┌ Warning: `getindex(f::Figure, x)` is deprecated, use `getproperty(f, x)` instead.\n",
      "│   caller = py_extents(::PyPlot.Figure) at pyplot.jl:261\n",
      "└ @ Plots /home/theo/.julia/packages/Plots/QYETN/src/backends/pyplot.jl:261\n",
      "┌ Warning: `getindex(o::PyObject, s::Symbol)` is deprecated in favor of dot overloading (`getproperty`) so elements should now be accessed as e.g. `o.s` instead of `o[:s]`.\n",
      "│   caller = py_extents(::PyPlot.Figure) at pyplot.jl:261\n",
      "└ @ Plots /home/theo/.julia/packages/Plots/QYETN/src/backends/pyplot.jl:261\n",
      "┌ Warning: `getindex(o::PyObject, s::Symbol)` is deprecated in favor of dot overloading (`getproperty`) so elements should now be accessed as e.g. `o.s` instead of `o[:s]`.\n",
      "│   caller = py_extents(::PyCall.PyObject) at pyplot.jl:261\n",
      "└ @ Plots /home/theo/.julia/packages/Plots/QYETN/src/backends/pyplot.jl:261\n",
      "┌ Warning: `getindex(o::PyObject, s::Symbol)` is deprecated in favor of dot overloading (`getproperty`) so elements should now be accessed as e.g. `o.s` instead of `o[:s]`.\n",
      "│   caller = py_extents(::PyCall.PyObject) at pyplot.jl:261\n",
      "└ @ Plots /home/theo/.julia/packages/Plots/QYETN/src/backends/pyplot.jl:261\n",
      "┌ Warning: `getindex(o::PyObject, s::Symbol)` is deprecated in favor of dot overloading (`getproperty`) so elements should now be accessed as e.g. `o.s` instead of `o[:s]`.\n",
      "│   caller = py_bbox_ticks(::PyCall.PyObject, ::String) at pyplot.jl:282\n",
      "└ @ Plots /home/theo/.julia/packages/Plots/QYETN/src/backends/pyplot.jl:282\n",
      "┌ Warning: `getindex(o::PyObject, s::Symbol)` is deprecated in favor of dot overloading (`getproperty`) so elements should now be accessed as e.g. `o.s` instead of `o[:s]`.\n",
      "│   caller = py_bbox_axislabel(::PyCall.PyObject, ::String) at pyplot.jl:288\n",
      "└ @ Plots /home/theo/.julia/packages/Plots/QYETN/src/backends/pyplot.jl:288\n"
     ]
    },
    {
     "name": "stderr",
     "output_type": "stream",
     "text": [
      "┌ Warning: `getindex(o::PyObject, s::Symbol)` is deprecated in favor of dot overloading (`getproperty`) so elements should now be accessed as e.g. `o.s` instead of `o[:s]`.\n",
      "│   caller = py_bbox_axislabel(::PyCall.PyObject, ::String) at pyplot.jl:288\n",
      "└ @ Plots /home/theo/.julia/packages/Plots/QYETN/src/backends/pyplot.jl:288\n",
      "┌ Warning: `getindex(o::PyObject, s::Symbol)` is deprecated in favor of dot overloading (`getproperty`) so elements should now be accessed as e.g. `o.s` instead of `o[:s]`.\n",
      "│   caller = py_bbox_title(::PyCall.PyObject) at pyplot.jl:304\n",
      "└ @ Plots /home/theo/.julia/packages/Plots/QYETN/src/backends/pyplot.jl:304\n",
      "┌ Warning: `getindex(o::PyObject, s::Symbol)` is deprecated in favor of dot overloading (`getproperty`) so elements should now be accessed as e.g. `o.s` instead of `o[:s]`.\n",
      "│   caller = py_bbox_title(::PyCall.PyObject) at pyplot.jl:304\n",
      "└ @ Plots /home/theo/.julia/packages/Plots/QYETN/src/backends/pyplot.jl:304\n",
      "┌ Warning: `getindex(o::PyObject, s::Symbol)` is deprecated in favor of dot overloading (`getproperty`) so elements should now be accessed as e.g. `o.s` instead of `o[:s]`.\n",
      "│   caller = py_bbox_title(::PyCall.PyObject) at pyplot.jl:304\n",
      "└ @ Plots /home/theo/.julia/packages/Plots/QYETN/src/backends/pyplot.jl:304\n"
     ]
    },
    {
     "data": {
      "image/png": "[encoded data removed]"
     },
     "execution_count": 3,
     "metadata": {},
     "output_type": "execute_result"
    },
    {
     "name": "stderr",
     "output_type": "stream",
     "text": [
      "┌ Warning: `getindex(o::PyObject, s::Symbol)` is deprecated in favor of dot overloading (`getproperty`) so elements should now be accessed as e.g. `o.s` instead of `o[:s]`.\n",
      "│   caller = _update_plot_object(::Plots.Plot{Plots.PyPlotBackend}) at pyplot.jl:1304\n",
      "└ @ Plots /home/theo/.julia/packages/Plots/QYETN/src/backends/pyplot.jl:1304\n",
      "┌ Warning: `getindex(f::Figure, x)` is deprecated, use `getproperty(f, x)` instead.\n",
      "│   caller = _show(::Base64.Base64EncodePipe, ::MIME{Symbol(\"image/png\")}, ::Plots.Plot{Plots.PyPlotBackend}) at pyplot.jl:1343\n",
      "└ @ Plots /home/theo/.julia/packages/Plots/QYETN/src/backends/pyplot.jl:1343\n",
      "┌ Warning: `getindex(o::PyObject, s::Symbol)` is deprecated in favor of dot overloading (`getproperty`) so elements should now be accessed as e.g. `o.s` instead of `o[:s]`.\n",
      "│   caller = _show(::Base64.Base64EncodePipe, ::MIME{Symbol(\"image/png\")}, ::Plots.Plot{Plots.PyPlotBackend}) at pyplot.jl:1343\n",
      "└ @ Plots /home/theo/.julia/packages/Plots/QYETN/src/backends/pyplot.jl:1343\n",
      "┌ Warning: `getindex(f::Figure, x)` is deprecated, use `getproperty(f, x)` instead.\n",
      "│   caller = _show(::Base64.Base64EncodePipe, ::MIME{Symbol(\"image/png\")}, ::Plots.Plot{Plots.PyPlotBackend}) at pyplot.jl:1343\n",
      "└ @ Plots /home/theo/.julia/packages/Plots/QYETN/src/backends/pyplot.jl:1343\n"
     ]
    }
   ],
   "source": [
    "N = 1000\n",
    "X = reshape((sort(rand(N)).-0.5).*40.0,N,1)\n",
    "function latent(x)\n",
    "    5.0.*sin.(x)./x\n",
    "end\n",
    "outliers = rand(N).>0.7\n",
    "Y = (latent(X)+(1.0.-outliers).*rand(Normal(0,1),N)+outliers.*rand(Normal(0,10),N))[:];\n",
    "scatter(X,Y)"
   ]
  },
  {
   "cell_type": "code",
   "execution_count": 4,
   "metadata": {},
   "outputs": [
    {
     "name": "stdout",
     "output_type": "stream",
     "text": [
      "Training with 4 points\n",
      "  6.848725 seconds (29.07 M allocations: 1.554 GiB, 9.40% gc time)\n",
      "Training with 8 points\n",
      "  0.101929 seconds (496.30 k allocations: 158.675 MiB, 17.37% gc time)\n",
      "Training with 16 points\n",
      "  0.154180 seconds (496.30 k allocations: 263.962 MiB, 15.42% gc time)\n",
      "Training with 32 points\n",
      "  0.283865 seconds (496.30 k allocations: 479.962 MiB, 13.35% gc time)\n",
      "Training with 64 points\n",
      "  0.567361 seconds (498.17 k allocations: 933.831 MiB, 12.14% gc time)\n"
     ]
    }
   ],
   "source": [
    "# Run sparse classification with increasing number of inducing points\n",
    "Ms = [4, 8, 16, 32, 64]\n",
    "models = Vector{AbstractGP}(undef,length(Ms)+1)\n",
    "kernel = RBFKernel(1.0)\n",
    "ν=10.0\n",
    "for (index, num_inducing) in enumerate(Ms)\n",
    "    m =  SVGP(X, Y, kernel,AugmentedStudentTLikelihood(ν),AnalyticInference(),num_inducing,Autotuning=true)\n",
    "    println(\"Training with $(num_inducing) points\")\n",
    "    @time train!(m,iterations=100)\n",
    "    models[index] = m;\n",
    "end"
   ]
  },
  {
   "cell_type": "code",
   "execution_count": 5,
   "metadata": {},
   "outputs": [
    {
     "name": "stdout",
     "output_type": "stream",
     "text": [
      "Training with full model\n"
     ]
    },
    {
     "ename": "UndefVarError",
     "evalue": "UndefVarError: m not defined",
     "output_type": "error",
     "traceback": [
      "UndefVarError: m not defined",
      "",
      "Stacktrace:",
      " [1] top-level scope at util.jl:156",
      " [2] top-level scope at In[5]:3"
     ]
    }
   ],
   "source": [
    "mfull = VGP(X, Y, kernel,AugmentedStudentTLikelihood(ν),AnalyticInference(),Autotuning=true)\n",
    "println(\"Training with full model\")\n",
    "@time train!(m,iterations=5);\n",
    "models[end] = mfull;"
   ]
  },
  {
   "cell_type": "code",
   "execution_count": 6,
   "metadata": {},
   "outputs": [],
   "source": [
    "function compute_Grid(model,nGrid=50)\n",
    "    mins = -20\n",
    "    maxs = 20\n",
    "    Xplot = collect(range(mins[1],stop=maxs[1],length=nGrid))\n",
    "#     Xplot = hcat([j for i in xlin, j in ylin][:],[i for i in xlin, j in ylin][:])\n",
    "    y = proba_y(model,Xplot)\n",
    "    return (y,Xplot)\n",
    "    end;"
   ]
  },
  {
   "cell_type": "code",
   "execution_count": 7,
   "metadata": {},
   "outputs": [],
   "source": [
    "function plotdata(X,Y)\n",
    "    plot(X,Y,t=:scatter,alpha=0.33,markerstrokewidth=0.0,lab=\"\",size=(300,500));\n",
    "end;"
   ]
  },
  {
   "cell_type": "code",
   "execution_count": 8,
   "metadata": {},
   "outputs": [],
   "source": [
    "function plotcontour(model,X,Y)\n",
    "    nGrid = 100\n",
    "    (predic,x) = compute_Grid(model,nGrid);\n",
    "    plotdata(X,Y)\n",
    "    if in(:Z,fieldnames(typeof(model)))\n",
    "        plot!(model.Z[1][:,1],zero(model.Z[1][:,1]),msize=2.0,color=\"black\",t=:scatter,lab=\"\")\n",
    "    end\n",
    "    return plot!(x,predic,title=(in(:Z,fieldnames(typeof(model))) ? \"M = $(model.nFeature)\" : \"full\"),color=\"red\",lab=\"\",linewidth=3.0)\n",
    "end;"
   ]
  },
  {
   "cell_type": "code",
   "execution_count": 9,
   "metadata": {},
   "outputs": [
    {
     "ename": "ErrorException",
     "evalue": "type SVGP has no field nInducingPoints",
     "output_type": "error",
     "traceback": [
      "type SVGP has no field nInducingPoints",
      "",
      "Stacktrace:",
      " [1] getproperty(::Any, ::Symbol) at ./sysimg.jl:18",
      " [2] plotcontour(::SVGP{AugmentedStudentTLikelihood{Float64},AnalyticInference{Float64},Float64,Array{Float64,1}}, ::Array{Float64,2}, ::Array{Float64,1}) at ./In[8]:8",
      " [3] (::getfield(Main, Symbol(\"##3#4\")))(::SVGP{AugmentedStudentTLikelihood{Float64},AnalyticInference{Float64},Float64,Array{Float64,1}}) at ./In[9]:1",
      " [4] _broadcast_getindex_evalf at ./broadcast.jl:578 [inlined]",
      " [5] _broadcast_getindex at ./broadcast.jl:551 [inlined]",
      " [6] getindex at ./broadcast.jl:511 [inlined]",
      " [7] copy at ./broadcast.jl:787 [inlined]",
      " [8] materialize at ./broadcast.jl:753 [inlined]",
      " [9] broadcast(::getfield(Main, Symbol(\"##3#4\")), ::Array{GP,1}) at ./broadcast.jl:707",
      " [10] top-level scope at In[9]:1"
     ]
    }
   ],
   "source": [
    "plot(broadcast(x->plotcontour(x,X,Y),models)...,layout=(1,length(models)),size=(1000,200))"
   ]
  },
  {
   "cell_type": "code",
   "execution_count": null,
   "metadata": {},
   "outputs": [],
   "source": []
  }
 ],
 "metadata": {
  "@webio": {
   "lastCommId": "cada9ab217ae43feb2ea4d08caa13a03",
   "lastKernelId": "0ee559d6-88fd-4533-a543-8b5f92e0f418"
  },
  "kernelspec": {
   "display_name": "Julia 1.1.0",
   "language": "julia",
   "name": "julia-1.1"
  },
  "language_info": {
   "file_extension": ".jl",
   "mimetype": "application/julia",
   "name": "julia",
   "version": "1.1.0"
  }
 },
 "nbformat": 4,
 "nbformat_minor": 2
}
